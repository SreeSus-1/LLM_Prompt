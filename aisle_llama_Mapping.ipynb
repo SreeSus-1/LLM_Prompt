{
  "nbformat": 4,
  "nbformat_minor": 0,
  "metadata": {
    "colab": {
      "provenance": []
    },
    "kernelspec": {
      "name": "python3",
      "display_name": "Python 3"
    },
    "language_info": {
      "name": "python"
    }
  },
  "cells": [
    {
      "cell_type": "markdown",
      "source": [
        "Using any OpenAI model or Groq (llama 70b) model, solve the aisle mapping problem.  OpenAI code is provided here. You will do the usual 3 steps in terms of mounting the Google drive, your API key and install one of the LLM models, and import pandas.  Your goal is to do a model comparison and validation.\n",
        "**The code below works for OpenAI gpt-4o model.  Have not tested it on Llama model.  Also, this code with the dataset  may blow your budget if you are not careful with the size of test dataset, so exercise caution.**"
      ],
      "metadata": {
        "id": "f70xarX4M08z"
      }
    },
    {
      "cell_type": "code",
      "source": [
        "from google.colab import drive\n",
        "drive.mount('/content/drive/')"
      ],
      "metadata": {
        "colab": {
          "base_uri": "https://localhost:8080/"
        },
        "id": "Xdy9hyHlbNmB",
        "outputId": "f7adf3aa-b155-4c2b-e5ed-9f1d52bae6bc"
      },
      "execution_count": null,
      "outputs": [
        {
          "output_type": "stream",
          "name": "stdout",
          "text": [
            "Mounted at /content/drive/\n"
          ]
        }
      ]
    },
    {
      "cell_type": "code",
      "source": [
        "!pip install -r \"/content/drive/MyDrive/LLM/Groq/requirements.txt\""
      ],
      "metadata": {
        "colab": {
          "base_uri": "https://localhost:8080/"
        },
        "id": "15XjKJ8ebN0X",
        "outputId": "bcd90472-c0b5-4164-9a40-c96121fc2f5d"
      },
      "execution_count": null,
      "outputs": [
        {
          "output_type": "stream",
          "name": "stdout",
          "text": [
            "Collecting groq (from -r /content/drive/MyDrive/LLM/Groq/requirements.txt (line 1))\n",
            "  Downloading groq-0.8.0-py3-none-any.whl (105 kB)\n",
            "\u001b[2K     \u001b[90m━━━━━━━━━━━━━━━━━━━━━━━━━━━━━━━━━━━━━━━━\u001b[0m \u001b[32m105.4/105.4 kB\u001b[0m \u001b[31m2.6 MB/s\u001b[0m eta \u001b[36m0:00:00\u001b[0m\n",
            "\u001b[?25hCollecting langchain (from -r /content/drive/MyDrive/LLM/Groq/requirements.txt (line 2))\n",
            "  Downloading langchain-0.2.3-py3-none-any.whl (974 kB)\n",
            "\u001b[2K     \u001b[90m━━━━━━━━━━━━━━━━━━━━━━━━━━━━━━━━━━━━━━━━\u001b[0m \u001b[32m974.0/974.0 kB\u001b[0m \u001b[31m19.2 MB/s\u001b[0m eta \u001b[36m0:00:00\u001b[0m\n",
            "\u001b[?25hRequirement already satisfied: anyio<5,>=3.5.0 in /usr/local/lib/python3.10/dist-packages (from groq->-r /content/drive/MyDrive/LLM/Groq/requirements.txt (line 1)) (3.7.1)\n",
            "Requirement already satisfied: distro<2,>=1.7.0 in /usr/lib/python3/dist-packages (from groq->-r /content/drive/MyDrive/LLM/Groq/requirements.txt (line 1)) (1.7.0)\n",
            "Collecting httpx<1,>=0.23.0 (from groq->-r /content/drive/MyDrive/LLM/Groq/requirements.txt (line 1))\n",
            "  Downloading httpx-0.27.0-py3-none-any.whl (75 kB)\n",
            "\u001b[2K     \u001b[90m━━━━━━━━━━━━━━━━━━━━━━━━━━━━━━━━━━━━━━━━\u001b[0m \u001b[32m75.6/75.6 kB\u001b[0m \u001b[31m9.8 MB/s\u001b[0m eta \u001b[36m0:00:00\u001b[0m\n",
            "\u001b[?25hRequirement already satisfied: pydantic<3,>=1.9.0 in /usr/local/lib/python3.10/dist-packages (from groq->-r /content/drive/MyDrive/LLM/Groq/requirements.txt (line 1)) (2.7.3)\n",
            "Requirement already satisfied: sniffio in /usr/local/lib/python3.10/dist-packages (from groq->-r /content/drive/MyDrive/LLM/Groq/requirements.txt (line 1)) (1.3.1)\n",
            "Requirement already satisfied: typing-extensions<5,>=4.7 in /usr/local/lib/python3.10/dist-packages (from groq->-r /content/drive/MyDrive/LLM/Groq/requirements.txt (line 1)) (4.12.1)\n",
            "Requirement already satisfied: PyYAML>=5.3 in /usr/local/lib/python3.10/dist-packages (from langchain->-r /content/drive/MyDrive/LLM/Groq/requirements.txt (line 2)) (6.0.1)\n",
            "Requirement already satisfied: SQLAlchemy<3,>=1.4 in /usr/local/lib/python3.10/dist-packages (from langchain->-r /content/drive/MyDrive/LLM/Groq/requirements.txt (line 2)) (2.0.30)\n",
            "Requirement already satisfied: aiohttp<4.0.0,>=3.8.3 in /usr/local/lib/python3.10/dist-packages (from langchain->-r /content/drive/MyDrive/LLM/Groq/requirements.txt (line 2)) (3.9.5)\n",
            "Requirement already satisfied: async-timeout<5.0.0,>=4.0.0 in /usr/local/lib/python3.10/dist-packages (from langchain->-r /content/drive/MyDrive/LLM/Groq/requirements.txt (line 2)) (4.0.3)\n",
            "Collecting langchain-core<0.3.0,>=0.2.0 (from langchain->-r /content/drive/MyDrive/LLM/Groq/requirements.txt (line 2))\n",
            "  Downloading langchain_core-0.2.5-py3-none-any.whl (314 kB)\n",
            "\u001b[2K     \u001b[90m━━━━━━━━━━━━━━━━━━━━━━━━━━━━━━━━━━━━━━━━\u001b[0m \u001b[32m314.7/314.7 kB\u001b[0m \u001b[31m30.1 MB/s\u001b[0m eta \u001b[36m0:00:00\u001b[0m\n",
            "\u001b[?25hCollecting langchain-text-splitters<0.3.0,>=0.2.0 (from langchain->-r /content/drive/MyDrive/LLM/Groq/requirements.txt (line 2))\n",
            "  Downloading langchain_text_splitters-0.2.1-py3-none-any.whl (23 kB)\n",
            "Collecting langsmith<0.2.0,>=0.1.17 (from langchain->-r /content/drive/MyDrive/LLM/Groq/requirements.txt (line 2))\n",
            "  Downloading langsmith-0.1.75-py3-none-any.whl (124 kB)\n",
            "\u001b[2K     \u001b[90m━━━━━━━━━━━━━━━━━━━━━━━━━━━━━━━━━━━━━━━━\u001b[0m \u001b[32m124.9/124.9 kB\u001b[0m \u001b[31m14.2 MB/s\u001b[0m eta \u001b[36m0:00:00\u001b[0m\n",
            "\u001b[?25hRequirement already satisfied: numpy<2,>=1 in /usr/local/lib/python3.10/dist-packages (from langchain->-r /content/drive/MyDrive/LLM/Groq/requirements.txt (line 2)) (1.25.2)\n",
            "Requirement already satisfied: requests<3,>=2 in /usr/local/lib/python3.10/dist-packages (from langchain->-r /content/drive/MyDrive/LLM/Groq/requirements.txt (line 2)) (2.31.0)\n",
            "Requirement already satisfied: tenacity<9.0.0,>=8.1.0 in /usr/local/lib/python3.10/dist-packages (from langchain->-r /content/drive/MyDrive/LLM/Groq/requirements.txt (line 2)) (8.3.0)\n",
            "Requirement already satisfied: aiosignal>=1.1.2 in /usr/local/lib/python3.10/dist-packages (from aiohttp<4.0.0,>=3.8.3->langchain->-r /content/drive/MyDrive/LLM/Groq/requirements.txt (line 2)) (1.3.1)\n",
            "Requirement already satisfied: attrs>=17.3.0 in /usr/local/lib/python3.10/dist-packages (from aiohttp<4.0.0,>=3.8.3->langchain->-r /content/drive/MyDrive/LLM/Groq/requirements.txt (line 2)) (23.2.0)\n",
            "Requirement already satisfied: frozenlist>=1.1.1 in /usr/local/lib/python3.10/dist-packages (from aiohttp<4.0.0,>=3.8.3->langchain->-r /content/drive/MyDrive/LLM/Groq/requirements.txt (line 2)) (1.4.1)\n",
            "Requirement already satisfied: multidict<7.0,>=4.5 in /usr/local/lib/python3.10/dist-packages (from aiohttp<4.0.0,>=3.8.3->langchain->-r /content/drive/MyDrive/LLM/Groq/requirements.txt (line 2)) (6.0.5)\n",
            "Requirement already satisfied: yarl<2.0,>=1.0 in /usr/local/lib/python3.10/dist-packages (from aiohttp<4.0.0,>=3.8.3->langchain->-r /content/drive/MyDrive/LLM/Groq/requirements.txt (line 2)) (1.9.4)\n",
            "Requirement already satisfied: idna>=2.8 in /usr/local/lib/python3.10/dist-packages (from anyio<5,>=3.5.0->groq->-r /content/drive/MyDrive/LLM/Groq/requirements.txt (line 1)) (3.7)\n",
            "Requirement already satisfied: exceptiongroup in /usr/local/lib/python3.10/dist-packages (from anyio<5,>=3.5.0->groq->-r /content/drive/MyDrive/LLM/Groq/requirements.txt (line 1)) (1.2.1)\n",
            "Requirement already satisfied: certifi in /usr/local/lib/python3.10/dist-packages (from httpx<1,>=0.23.0->groq->-r /content/drive/MyDrive/LLM/Groq/requirements.txt (line 1)) (2024.6.2)\n",
            "Collecting httpcore==1.* (from httpx<1,>=0.23.0->groq->-r /content/drive/MyDrive/LLM/Groq/requirements.txt (line 1))\n",
            "  Downloading httpcore-1.0.5-py3-none-any.whl (77 kB)\n",
            "\u001b[2K     \u001b[90m━━━━━━━━━━━━━━━━━━━━━━━━━━━━━━━━━━━━━━━━\u001b[0m \u001b[32m77.9/77.9 kB\u001b[0m \u001b[31m9.3 MB/s\u001b[0m eta \u001b[36m0:00:00\u001b[0m\n",
            "\u001b[?25hCollecting h11<0.15,>=0.13 (from httpcore==1.*->httpx<1,>=0.23.0->groq->-r /content/drive/MyDrive/LLM/Groq/requirements.txt (line 1))\n",
            "  Downloading h11-0.14.0-py3-none-any.whl (58 kB)\n",
            "\u001b[2K     \u001b[90m━━━━━━━━━━━━━━━━━━━━━━━━━━━━━━━━━━━━━━━━\u001b[0m \u001b[32m58.3/58.3 kB\u001b[0m \u001b[31m6.8 MB/s\u001b[0m eta \u001b[36m0:00:00\u001b[0m\n",
            "\u001b[?25hCollecting jsonpatch<2.0,>=1.33 (from langchain-core<0.3.0,>=0.2.0->langchain->-r /content/drive/MyDrive/LLM/Groq/requirements.txt (line 2))\n",
            "  Downloading jsonpatch-1.33-py2.py3-none-any.whl (12 kB)\n",
            "Collecting packaging<24.0,>=23.2 (from langchain-core<0.3.0,>=0.2.0->langchain->-r /content/drive/MyDrive/LLM/Groq/requirements.txt (line 2))\n",
            "  Downloading packaging-23.2-py3-none-any.whl (53 kB)\n",
            "\u001b[2K     \u001b[90m━━━━━━━━━━━━━━━━━━━━━━━━━━━━━━━━━━━━━━━━\u001b[0m \u001b[32m53.0/53.0 kB\u001b[0m \u001b[31m6.8 MB/s\u001b[0m eta \u001b[36m0:00:00\u001b[0m\n",
            "\u001b[?25hCollecting orjson<4.0.0,>=3.9.14 (from langsmith<0.2.0,>=0.1.17->langchain->-r /content/drive/MyDrive/LLM/Groq/requirements.txt (line 2))\n",
            "  Downloading orjson-3.10.3-cp310-cp310-manylinux_2_17_x86_64.manylinux2014_x86_64.whl (142 kB)\n",
            "\u001b[2K     \u001b[90m━━━━━━━━━━━━━━━━━━━━━━━━━━━━━━━━━━━━━━━━\u001b[0m \u001b[32m142.5/142.5 kB\u001b[0m \u001b[31m15.3 MB/s\u001b[0m eta \u001b[36m0:00:00\u001b[0m\n",
            "\u001b[?25hRequirement already satisfied: annotated-types>=0.4.0 in /usr/local/lib/python3.10/dist-packages (from pydantic<3,>=1.9.0->groq->-r /content/drive/MyDrive/LLM/Groq/requirements.txt (line 1)) (0.7.0)\n",
            "Requirement already satisfied: pydantic-core==2.18.4 in /usr/local/lib/python3.10/dist-packages (from pydantic<3,>=1.9.0->groq->-r /content/drive/MyDrive/LLM/Groq/requirements.txt (line 1)) (2.18.4)\n",
            "Requirement already satisfied: charset-normalizer<4,>=2 in /usr/local/lib/python3.10/dist-packages (from requests<3,>=2->langchain->-r /content/drive/MyDrive/LLM/Groq/requirements.txt (line 2)) (3.3.2)\n",
            "Requirement already satisfied: urllib3<3,>=1.21.1 in /usr/local/lib/python3.10/dist-packages (from requests<3,>=2->langchain->-r /content/drive/MyDrive/LLM/Groq/requirements.txt (line 2)) (2.0.7)\n",
            "Requirement already satisfied: greenlet!=0.4.17 in /usr/local/lib/python3.10/dist-packages (from SQLAlchemy<3,>=1.4->langchain->-r /content/drive/MyDrive/LLM/Groq/requirements.txt (line 2)) (3.0.3)\n",
            "Collecting jsonpointer>=1.9 (from jsonpatch<2.0,>=1.33->langchain-core<0.3.0,>=0.2.0->langchain->-r /content/drive/MyDrive/LLM/Groq/requirements.txt (line 2))\n",
            "  Downloading jsonpointer-2.4-py2.py3-none-any.whl (7.8 kB)\n",
            "Installing collected packages: packaging, orjson, jsonpointer, h11, jsonpatch, httpcore, langsmith, httpx, langchain-core, groq, langchain-text-splitters, langchain\n",
            "  Attempting uninstall: packaging\n",
            "    Found existing installation: packaging 24.0\n",
            "    Uninstalling packaging-24.0:\n",
            "      Successfully uninstalled packaging-24.0\n",
            "Successfully installed groq-0.8.0 h11-0.14.0 httpcore-1.0.5 httpx-0.27.0 jsonpatch-1.33 jsonpointer-2.4 langchain-0.2.3 langchain-core-0.2.5 langchain-text-splitters-0.2.1 langsmith-0.1.75 orjson-3.10.3 packaging-23.2\n"
          ]
        }
      ]
    },
    {
      "cell_type": "code",
      "source": [
        "import os  ## step-3\n",
        "# Read and set the environment variable from the .bashrc file\n",
        "with open('/content/drive/MyDrive/LLM/Groq/.bashrc') as file:\n",
        "    for line in file:\n",
        "        if line.startswith('export '):\n",
        "            var, value = line[len('export '):].strip().split('=')\n",
        "            os.environ[var] = value\n",
        "\n",
        "# Verify that the environment variable is set\n",
        "!echo $GROQ_API_KEY"
      ],
      "metadata": {
        "colab": {
          "base_uri": "https://localhost:8080/"
        },
        "id": "pWtuS1OWbN8K",
        "outputId": "e6aad901-30ed-4cfd-fc0b-5fb6f7d30f0d"
      },
      "execution_count": null,
      "outputs": [
        {
          "output_type": "stream",
          "name": "stdout",
          "text": [
            "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\n"
          ]
        }
      ]
    },
    {
      "cell_type": "code",
      "source": [
        "from groq import Groq\n",
        "client = Groq(api_key = os.getenv('GROQ_API_KEY'))\n",
        "#model = 'mixtral-8x7b-32768'"
      ],
      "metadata": {
        "id": "AsTRAdnnbOHY"
      },
      "execution_count": null,
      "outputs": []
    },
    {
      "cell_type": "code",
      "execution_count": null,
      "metadata": {
        "id": "QOYLii309HMZ"
      },
      "outputs": [],
      "source": [
        "import pandas as pd\n",
        "df = pd.read_excel('Aisle-Mapping.xlsx')"
      ]
    },
    {
      "cell_type": "code",
      "execution_count": null,
      "metadata": {
        "id": "qaOJcT-l9NWw"
      },
      "outputs": [],
      "source": [
        "groceries = df['Grocery ITEM'].dropna().tolist()\n",
        "aisles = df['Aisle Category'].dropna().tolist()"
      ]
    },
    {
      "cell_type": "code",
      "execution_count": null,
      "metadata": {
        "id": "-dQsDVjv-Ejn"
      },
      "outputs": [],
      "source": [
        "batch_size = 50  # Adjust the batch size as needed\n",
        "separator=\",\"\n",
        "\n",
        "# Function to get the best matches for a batch of keywords using chat completion\n",
        "def get_best_matches_batch(grocery_batch, aisle_list):\n",
        "    prompt = \"Match each grocery item in the  grocery list with the most appropriate aisle category from the provided list of aisle categories.\\n\\n\"\n",
        "    prompt += \"The grocery list items are separated by commas. The list of aisles are also separated by commas. \\n\\n\"\n",
        "    prompt += \"List of grocery items to match:\\n\" + \"\\n\"+ \"\\n\"+separator.join(grocery_batch)+  \"\\n\\n\"\n",
        "    prompt += \"List of provided aisle categories:\\n\" + \"\\n\"+ \"\\n\"+separator.join(aisle_list)+ \"\\n\\n\"\n",
        "    prompt += \"If an appropriate aisle category is not to be found in the list, use Other \\n\\n\"\n",
        "    prompt += \"Return the matches in the format 'grocery item -> aisle category \\n\\n\"\n",
        "    prompt+=\"You must absolutely make sure that each grocery item is mapped to an aisle category\"\n",
        "    #print(prompt)\n",
        "    response = client.chat.completions.create(\n",
        "        model=\"llama3-70b-8192\",\n",
        "        messages=[\n",
        "            {\"role\": \"system\", \"content\": \"You are a helpful assistant that matches grocery items to aisle categories based on a typical grocery store or a supermarket in the USA.\"},\n",
        "            {\"role\": \"user\", \"content\": prompt}\n",
        "        ],\n",
        "        max_tokens=4096,\n",
        "        temperature=0.0\n",
        "    )\n",
        "    matches = response.choices[0].message.content\n",
        "    return matches"
      ]
    },
    {
      "cell_type": "code",
      "source": [
        "\n",
        "grocery_batch = groceries[0: batch_size]\n",
        "batch_matches = get_best_matches_batch(grocery_batch, aisles)\n",
        "print(batch_matches)"
      ],
      "metadata": {
        "colab": {
          "base_uri": "https://localhost:8080/"
        },
        "id": "2vcK0OKKb5XF",
        "outputId": "242257d0-b7dd-4ebc-ed4d-bc4388f24102"
      },
      "execution_count": null,
      "outputs": [
        {
          "output_type": "stream",
          "name": "stdout",
          "text": [
            "Here are the matches:\n",
            "\n",
            "tropical fruit -> Produce\n",
            "whole milk -> Dairy\n",
            "pip fruit -> Produce\n",
            "other vegetables -> Produce\n",
            "whole milk -> Dairy\n",
            "rolls/buns -> Bakery\n",
            "other vegetables -> Produce\n",
            "pot plants -> Garden\n",
            "whole milk -> Dairy\n",
            "tropical fruit -> Produce\n",
            "citrus fruit -> Produce\n",
            "beef -> Meat\n",
            "frankfurter -> Meat\n",
            "chicken -> Meat\n",
            "butter -> Dairy\n",
            "fruit/vegetable juice -> Beverages\n",
            "packaged fruit/vegetables -> Canned Goods\n",
            "chocolate -> Candy\n",
            "specialty bar -> Snacks\n",
            "other vegetables -> Produce\n",
            "butter milk -> Dairy\n",
            "whole milk -> Dairy\n",
            "tropical fruit -> Produce\n",
            "tropical fruit -> Produce\n",
            "bottled water -> Beverages\n",
            "yogurt -> Dairy\n",
            "sausage -> Meat\n",
            "other vegetables -> Produce\n",
            "brown bread -> Bakery\n",
            "yogurt -> Dairy\n",
            "hamburger meat -> Meat\n",
            "root vegetables -> Produce\n",
            "pork -> Meat\n",
            "beef -> Meat\n",
            "pastry -> Bakery\n",
            "fruit/vegetable juice -> Beverages\n",
            "canned beer -> Alcohol\n",
            "root vegetables -> Produce\n",
            "citrus fruit -> Produce\n",
            "sausage -> Meat\n",
            "tropical fruit -> Produce\n",
            "berries -> Produce\n",
            "canned beer -> Alcohol\n",
            "butter milk -> Dairy\n",
            "coffee -> Beverages\n",
            "pastry -> Bakery\n",
            "rolls/buns -> Bakery\n",
            "misc. beverages -> Beverages\n",
            "root vegetables -> Produce\n",
            "sausage -> Meat\n"
          ]
        }
      ]
    }
  ]
}