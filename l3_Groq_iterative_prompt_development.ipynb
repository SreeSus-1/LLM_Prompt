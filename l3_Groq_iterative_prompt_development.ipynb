{
  "cells": [
    {
      "cell_type": "markdown",
      "id": "b97ddf3b-d921-4169-9d82-b0ee95e9eccd",
      "metadata": {
        "id": "b97ddf3b-d921-4169-9d82-b0ee95e9eccd"
      },
      "source": [
        "# Iterative Prompt Development\n",
        "In this lesson, you'll iteratively analyze and refine your prompts to generate marketing copy from a product fact sheet.\n",
        "\n",
        "## Setup"
      ]
    },
    {
      "cell_type": "code",
      "source": [
        "from google.colab import drive\n",
        "drive.mount('/content/drive/')"
      ],
      "metadata": {
        "colab": {
          "base_uri": "https://localhost:8080/"
        },
        "id": "2xptYn0AdU2q",
        "outputId": "b1b3f853-1b76-4f04-aa17-d728903084ab"
      },
      "id": "2xptYn0AdU2q",
      "execution_count": null,
      "outputs": [
        {
          "output_type": "stream",
          "name": "stdout",
          "text": [
            "Drive already mounted at /content/drive/; to attempt to forcibly remount, call drive.mount(\"/content/drive/\", force_remount=True).\n"
          ]
        }
      ]
    },
    {
      "cell_type": "code",
      "source": [
        "!pip install -r \"/content/drive/MyDrive/LLM/Groq/requirements.txt\""
      ],
      "metadata": {
        "colab": {
          "base_uri": "https://localhost:8080/"
        },
        "id": "AFuohMEDdVCo",
        "outputId": "fb9c0c47-50bf-4588-bd30-1e4c24531813"
      },
      "id": "AFuohMEDdVCo",
      "execution_count": null,
      "outputs": [
        {
          "output_type": "stream",
          "name": "stdout",
          "text": [
            "Requirement already satisfied: groq in /usr/local/lib/python3.10/dist-packages (from -r /content/drive/MyDrive/LLM/Groq/requirements.txt (line 1)) (0.8.0)\n",
            "Requirement already satisfied: langchain in /usr/local/lib/python3.10/dist-packages (from -r /content/drive/MyDrive/LLM/Groq/requirements.txt (line 2)) (0.2.3)\n",
            "Requirement already satisfied: anyio<5,>=3.5.0 in /usr/local/lib/python3.10/dist-packages (from groq->-r /content/drive/MyDrive/LLM/Groq/requirements.txt (line 1)) (3.7.1)\n",
            "Requirement already satisfied: distro<2,>=1.7.0 in /usr/lib/python3/dist-packages (from groq->-r /content/drive/MyDrive/LLM/Groq/requirements.txt (line 1)) (1.7.0)\n",
            "Requirement already satisfied: httpx<1,>=0.23.0 in /usr/local/lib/python3.10/dist-packages (from groq->-r /content/drive/MyDrive/LLM/Groq/requirements.txt (line 1)) (0.27.0)\n",
            "Requirement already satisfied: pydantic<3,>=1.9.0 in /usr/local/lib/python3.10/dist-packages (from groq->-r /content/drive/MyDrive/LLM/Groq/requirements.txt (line 1)) (2.7.3)\n",
            "Requirement already satisfied: sniffio in /usr/local/lib/python3.10/dist-packages (from groq->-r /content/drive/MyDrive/LLM/Groq/requirements.txt (line 1)) (1.3.1)\n",
            "Requirement already satisfied: typing-extensions<5,>=4.7 in /usr/local/lib/python3.10/dist-packages (from groq->-r /content/drive/MyDrive/LLM/Groq/requirements.txt (line 1)) (4.12.1)\n",
            "Requirement already satisfied: PyYAML>=5.3 in /usr/local/lib/python3.10/dist-packages (from langchain->-r /content/drive/MyDrive/LLM/Groq/requirements.txt (line 2)) (6.0.1)\n",
            "Requirement already satisfied: SQLAlchemy<3,>=1.4 in /usr/local/lib/python3.10/dist-packages (from langchain->-r /content/drive/MyDrive/LLM/Groq/requirements.txt (line 2)) (2.0.30)\n",
            "Requirement already satisfied: aiohttp<4.0.0,>=3.8.3 in /usr/local/lib/python3.10/dist-packages (from langchain->-r /content/drive/MyDrive/LLM/Groq/requirements.txt (line 2)) (3.9.5)\n",
            "Requirement already satisfied: async-timeout<5.0.0,>=4.0.0 in /usr/local/lib/python3.10/dist-packages (from langchain->-r /content/drive/MyDrive/LLM/Groq/requirements.txt (line 2)) (4.0.3)\n",
            "Requirement already satisfied: langchain-core<0.3.0,>=0.2.0 in /usr/local/lib/python3.10/dist-packages (from langchain->-r /content/drive/MyDrive/LLM/Groq/requirements.txt (line 2)) (0.2.5)\n",
            "Requirement already satisfied: langchain-text-splitters<0.3.0,>=0.2.0 in /usr/local/lib/python3.10/dist-packages (from langchain->-r /content/drive/MyDrive/LLM/Groq/requirements.txt (line 2)) (0.2.1)\n",
            "Requirement already satisfied: langsmith<0.2.0,>=0.1.17 in /usr/local/lib/python3.10/dist-packages (from langchain->-r /content/drive/MyDrive/LLM/Groq/requirements.txt (line 2)) (0.1.75)\n",
            "Requirement already satisfied: numpy<2,>=1 in /usr/local/lib/python3.10/dist-packages (from langchain->-r /content/drive/MyDrive/LLM/Groq/requirements.txt (line 2)) (1.25.2)\n",
            "Requirement already satisfied: requests<3,>=2 in /usr/local/lib/python3.10/dist-packages (from langchain->-r /content/drive/MyDrive/LLM/Groq/requirements.txt (line 2)) (2.31.0)\n",
            "Requirement already satisfied: tenacity<9.0.0,>=8.1.0 in /usr/local/lib/python3.10/dist-packages (from langchain->-r /content/drive/MyDrive/LLM/Groq/requirements.txt (line 2)) (8.3.0)\n",
            "Requirement already satisfied: aiosignal>=1.1.2 in /usr/local/lib/python3.10/dist-packages (from aiohttp<4.0.0,>=3.8.3->langchain->-r /content/drive/MyDrive/LLM/Groq/requirements.txt (line 2)) (1.3.1)\n",
            "Requirement already satisfied: attrs>=17.3.0 in /usr/local/lib/python3.10/dist-packages (from aiohttp<4.0.0,>=3.8.3->langchain->-r /content/drive/MyDrive/LLM/Groq/requirements.txt (line 2)) (23.2.0)\n",
            "Requirement already satisfied: frozenlist>=1.1.1 in /usr/local/lib/python3.10/dist-packages (from aiohttp<4.0.0,>=3.8.3->langchain->-r /content/drive/MyDrive/LLM/Groq/requirements.txt (line 2)) (1.4.1)\n",
            "Requirement already satisfied: multidict<7.0,>=4.5 in /usr/local/lib/python3.10/dist-packages (from aiohttp<4.0.0,>=3.8.3->langchain->-r /content/drive/MyDrive/LLM/Groq/requirements.txt (line 2)) (6.0.5)\n",
            "Requirement already satisfied: yarl<2.0,>=1.0 in /usr/local/lib/python3.10/dist-packages (from aiohttp<4.0.0,>=3.8.3->langchain->-r /content/drive/MyDrive/LLM/Groq/requirements.txt (line 2)) (1.9.4)\n",
            "Requirement already satisfied: idna>=2.8 in /usr/local/lib/python3.10/dist-packages (from anyio<5,>=3.5.0->groq->-r /content/drive/MyDrive/LLM/Groq/requirements.txt (line 1)) (3.7)\n",
            "Requirement already satisfied: exceptiongroup in /usr/local/lib/python3.10/dist-packages (from anyio<5,>=3.5.0->groq->-r /content/drive/MyDrive/LLM/Groq/requirements.txt (line 1)) (1.2.1)\n",
            "Requirement already satisfied: certifi in /usr/local/lib/python3.10/dist-packages (from httpx<1,>=0.23.0->groq->-r /content/drive/MyDrive/LLM/Groq/requirements.txt (line 1)) (2024.6.2)\n",
            "Requirement already satisfied: httpcore==1.* in /usr/local/lib/python3.10/dist-packages (from httpx<1,>=0.23.0->groq->-r /content/drive/MyDrive/LLM/Groq/requirements.txt (line 1)) (1.0.5)\n",
            "Requirement already satisfied: h11<0.15,>=0.13 in /usr/local/lib/python3.10/dist-packages (from httpcore==1.*->httpx<1,>=0.23.0->groq->-r /content/drive/MyDrive/LLM/Groq/requirements.txt (line 1)) (0.14.0)\n",
            "Requirement already satisfied: jsonpatch<2.0,>=1.33 in /usr/local/lib/python3.10/dist-packages (from langchain-core<0.3.0,>=0.2.0->langchain->-r /content/drive/MyDrive/LLM/Groq/requirements.txt (line 2)) (1.33)\n",
            "Requirement already satisfied: packaging<24.0,>=23.2 in /usr/local/lib/python3.10/dist-packages (from langchain-core<0.3.0,>=0.2.0->langchain->-r /content/drive/MyDrive/LLM/Groq/requirements.txt (line 2)) (23.2)\n",
            "Requirement already satisfied: orjson<4.0.0,>=3.9.14 in /usr/local/lib/python3.10/dist-packages (from langsmith<0.2.0,>=0.1.17->langchain->-r /content/drive/MyDrive/LLM/Groq/requirements.txt (line 2)) (3.10.3)\n",
            "Requirement already satisfied: annotated-types>=0.4.0 in /usr/local/lib/python3.10/dist-packages (from pydantic<3,>=1.9.0->groq->-r /content/drive/MyDrive/LLM/Groq/requirements.txt (line 1)) (0.7.0)\n",
            "Requirement already satisfied: pydantic-core==2.18.4 in /usr/local/lib/python3.10/dist-packages (from pydantic<3,>=1.9.0->groq->-r /content/drive/MyDrive/LLM/Groq/requirements.txt (line 1)) (2.18.4)\n",
            "Requirement already satisfied: charset-normalizer<4,>=2 in /usr/local/lib/python3.10/dist-packages (from requests<3,>=2->langchain->-r /content/drive/MyDrive/LLM/Groq/requirements.txt (line 2)) (3.3.2)\n",
            "Requirement already satisfied: urllib3<3,>=1.21.1 in /usr/local/lib/python3.10/dist-packages (from requests<3,>=2->langchain->-r /content/drive/MyDrive/LLM/Groq/requirements.txt (line 2)) (2.0.7)\n",
            "Requirement already satisfied: greenlet!=0.4.17 in /usr/local/lib/python3.10/dist-packages (from SQLAlchemy<3,>=1.4->langchain->-r /content/drive/MyDrive/LLM/Groq/requirements.txt (line 2)) (3.0.3)\n",
            "Requirement already satisfied: jsonpointer>=1.9 in /usr/local/lib/python3.10/dist-packages (from jsonpatch<2.0,>=1.33->langchain-core<0.3.0,>=0.2.0->langchain->-r /content/drive/MyDrive/LLM/Groq/requirements.txt (line 2)) (2.4)\n"
          ]
        }
      ]
    },
    {
      "cell_type": "code",
      "source": [
        "from groq import Groq\n",
        "import os  ## step-3\n",
        "# Read and set the environment variable from the .bashrc file\n",
        "with open('/content/drive/MyDrive/LLM/Groq/.bashrc') as file:\n",
        "    for line in file:\n",
        "        if line.startswith('export '):\n",
        "            var, value = line[len('export '):].strip().split('=')\n",
        "            os.environ[var] = value\n",
        "\n",
        "# Verify that the environment variable is set\n",
        "!echo $GROQ_API_KEY"
      ],
      "metadata": {
        "id": "B0ng3dtQdVJX"
      },
      "id": "B0ng3dtQdVJX",
      "execution_count": null,
      "outputs": []
    },
    {
      "cell_type": "code",
      "source": [
        "\n",
        "client = Groq(api_key = os.getenv('GROQ_API_KEY'))\n",
        "model = 'mixtral-8x7b-32768'"
      ],
      "metadata": {
        "id": "nGdb56V3dVUR"
      },
      "id": "nGdb56V3dVUR",
      "execution_count": null,
      "outputs": []
    },
    {
      "cell_type": "code",
      "source": [
        "def get_completion(prompt, model=\"llama3-70b-8192\"):\n",
        "    messages = [{\"role\": \"user\", \"content\": prompt}]  # Include the word 'json' in the messages parameter\n",
        "    response = client.chat.completions.create(\n",
        "        model=model,\n",
        "        messages=messages,\n",
        "        temperature=0,\n",
        "    )\n",
        "    return response.choices[0].message.content"
      ],
      "metadata": {
        "id": "osZUvUbedVeZ"
      },
      "id": "osZUvUbedVeZ",
      "execution_count": null,
      "outputs": []
    },
    {
      "cell_type": "markdown",
      "id": "ffc2b32f-73da-4ef0-81f6-0c7bff70783d",
      "metadata": {
        "id": "ffc2b32f-73da-4ef0-81f6-0c7bff70783d"
      },
      "source": [
        "**Note**: In June 2023, OpenAI updated gpt-3.5-turbo. The results you see in the notebook may be slightly different than those in the video. Some of the prompts have also been slightly modified to product the desired results."
      ]
    },
    {
      "cell_type": "markdown",
      "id": "71d1a1df-03c3-4f38-af6d-3962362f3dcd",
      "metadata": {
        "id": "71d1a1df-03c3-4f38-af6d-3962362f3dcd"
      },
      "source": [
        "## Generate a marketing product description from a product fact sheet"
      ]
    },
    {
      "cell_type": "code",
      "execution_count": null,
      "id": "5be90e47",
      "metadata": {
        "tags": [],
        "id": "5be90e47"
      },
      "outputs": [],
      "source": [
        "fact_sheet_chair = \"\"\"\n",
        "OVERVIEW\n",
        "- Part of a beautiful family of mid-century inspired office furniture,\n",
        "including filing cabinets, desks, bookcases, meeting tables, and more.\n",
        "- Several options of shell color and base finishes.\n",
        "- Available with plastic back and front upholstery (SWC-100)\n",
        "or full upholstery (SWC-110) in 10 fabric and 6 leather options.\n",
        "- Base finish options are: stainless steel, matte black,\n",
        "gloss white, or chrome.\n",
        "- Chair is available with or without armrests.\n",
        "- Suitable for home or business settings.\n",
        "- Qualified for contract use.\n",
        "\n",
        "CONSTRUCTION\n",
        "- 5-wheel plastic coated aluminum base.\n",
        "- Pneumatic chair adjust for easy raise/lower action.\n",
        "\n",
        "DIMENSIONS\n",
        "- WIDTH 53 CM | 20.87”\n",
        "- DEPTH 51 CM | 20.08”\n",
        "- HEIGHT 80 CM | 31.50”\n",
        "- SEAT HEIGHT 44 CM | 17.32”\n",
        "- SEAT DEPTH 41 CM | 16.14”\n",
        "\n",
        "OPTIONS\n",
        "- Soft or hard-floor caster options.\n",
        "- Two choices of seat foam densities:\n",
        " medium (1.8 lb/ft3) or high (2.8 lb/ft3)\n",
        "- Armless or 8 position PU armrests\n",
        "\n",
        "MATERIALS\n",
        "SHELL BASE GLIDER\n",
        "- Cast Aluminum with modified nylon PA6/PA66 coating.\n",
        "- Shell thickness: 10 mm.\n",
        "SEAT\n",
        "- HD36 foam\n",
        "\n",
        "COUNTRY OF ORIGIN\n",
        "- Italy\n",
        "\"\"\""
      ]
    },
    {
      "cell_type": "code",
      "execution_count": null,
      "id": "4f656d0c",
      "metadata": {
        "tags": [],
        "colab": {
          "base_uri": "https://localhost:8080/"
        },
        "id": "4f656d0c",
        "outputId": "08e2c9a6-af72-468d-e1c0-eff744ce3316"
      },
      "outputs": [
        {
          "output_type": "stream",
          "name": "stdout",
          "text": [
            "Here is a product description based on the technical specifications:\n",
            "\n",
            "**Introducing the Mid-Century Inspired Office Chair**\n",
            "\n",
            "Elevate your workspace with our stunning mid-century inspired office chair, part of a beautiful family of office furniture designed to bring style and sophistication to your home or business setting. With a range of shell color and base finish options, you can customize your chair to fit your unique style.\n",
            "\n",
            "Choose from 10 fabric and 6 leather upholstery options, or opt for a sleek plastic back and front upholstery. The base finish options include stainless steel, matte black, gloss white, or chrome, ensuring a perfect match with your office decor. Plus, you can choose to add armrests for extra comfort.\n",
            "\n",
            "This chair is built to last, with a sturdy 5-wheel plastic coated aluminum base and pneumatic chair adjust for easy height adjustment. The seat is crafted with high-density foam for optimal comfort and support.\n",
            "\n",
            "With a range of options to suit your needs, including soft or hard-floor caster options and two seat foam densities, you can tailor your chair to your specific requirements. Plus, the armless or 8-position PU armrests provide added flexibility.\n",
            "\n",
            "Crafted in Italy with high-quality materials, including cast aluminum and modified nylon PA6/PA66 coating, this chair is built to withstand the demands of contract use. With its sleek design and exceptional comfort, this chair is the perfect addition to any office space.\n",
            "\n",
            "**Dimensions:**\n",
            "\n",
            "* Width: 53 cm (20.87\")\n",
            "* Depth: 51 cm (20.08\")\n",
            "* Height: 80 cm (31.50\")\n",
            "* Seat Height: 44 cm (17.32\")\n",
            "* Seat Depth: 41 cm (16.14\")\n",
            "\n",
            "**Experience the perfect blend of style, comfort, and durability with our mid-century inspired office chair.**\n"
          ]
        }
      ],
      "source": [
        "prompt = f\"\"\"\n",
        "Your task is to help a marketing team create a\n",
        "description for a retail website of a product based\n",
        "on a technical fact sheet.\n",
        "\n",
        "Write a product description based on the information\n",
        "provided in the technical specifications delimited by\n",
        "triple backticks.\n",
        "\n",
        "Technical specifications: ```{fact_sheet_chair}```\n",
        "\"\"\"\n",
        "response = get_completion(prompt)\n",
        "print(response)\n"
      ]
    },
    {
      "cell_type": "markdown",
      "id": "e1361d6f-6022-4b7a-8107-b2e2ff5efd32",
      "metadata": {
        "id": "e1361d6f-6022-4b7a-8107-b2e2ff5efd32"
      },
      "source": [
        "## Issue 1: The text is too long\n",
        "- Limit the number of words/sentences/characters."
      ]
    },
    {
      "cell_type": "code",
      "execution_count": null,
      "id": "f6129532",
      "metadata": {
        "tags": [],
        "colab": {
          "base_uri": "https://localhost:8080/"
        },
        "id": "f6129532",
        "outputId": "67c8e2b4-b32b-4b80-e52c-3317fc990a86"
      },
      "outputs": [
        {
          "output_type": "stream",
          "name": "stdout",
          "text": [
            "Here is a product description based on the technical specifications:\n",
            "\n",
            "\"Elevate your workspace with our mid-century inspired office chair, featuring a sturdy aluminum base, adjustable height, and comfortable upholstery options in 10 fabrics and 6 leathers. Customize to fit your style with various shell colors, base finishes, and armrest options.\"\n"
          ]
        }
      ],
      "source": [
        "prompt = f\"\"\"\n",
        "Your task is to help a marketing team create a\n",
        "description for a retail website of a product based\n",
        "on a technical fact sheet.\n",
        "\n",
        "Write a product description based on the information\n",
        "provided in the technical specifications delimited by\n",
        "triple backticks.\n",
        "\n",
        "Use at most 50 words.\n",
        "\n",
        "Technical specifications: ```{fact_sheet_chair}```\n",
        "\"\"\"\n",
        "response = get_completion(prompt)\n",
        "print(response)\n"
      ]
    },
    {
      "cell_type": "code",
      "execution_count": null,
      "id": "17f658d0",
      "metadata": {
        "tags": [],
        "colab": {
          "base_uri": "https://localhost:8080/"
        },
        "id": "17f658d0",
        "outputId": "d28c5de8-00eb-4da7-8e0c-385add850906"
      },
      "outputs": [
        {
          "output_type": "execute_result",
          "data": {
            "text/plain": [
              "50"
            ]
          },
          "metadata": {},
          "execution_count": 14
        }
      ],
      "source": [
        "len(response.split())"
      ]
    },
    {
      "cell_type": "markdown",
      "id": "a6de9c92-857c-4d1c-8fd1-192cf47c4763",
      "metadata": {
        "id": "a6de9c92-857c-4d1c-8fd1-192cf47c4763"
      },
      "source": [
        "## Issue 2. Text focuses on the wrong details\n",
        "- Ask it to focus on the aspects that are relevant to the intended audience."
      ]
    },
    {
      "cell_type": "code",
      "execution_count": null,
      "id": "954a8a06",
      "metadata": {
        "tags": [],
        "colab": {
          "base_uri": "https://localhost:8080/"
        },
        "id": "954a8a06",
        "outputId": "27b3e81d-0e65-40cc-97cd-09b08bcf56d3"
      },
      "outputs": [
        {
          "output_type": "stream",
          "name": "stdout",
          "text": [
            "Here is a product description based on the technical specifications:\n",
            "\n",
            "\"Constructed with a durable cast aluminum shell base glider featuring a modified nylon PA6/PA66 coating, this mid-century inspired office chair boasts a sturdy 5-wheel plastic coated aluminum base and HD36 foam seat. Available with various shell color and base finish options, including stainless steel, matte black, gloss white, or chrome.\"\n"
          ]
        }
      ],
      "source": [
        "prompt = f\"\"\"\n",
        "Your task is to help a marketing team create a\n",
        "description for a retail website of a product based\n",
        "on a technical fact sheet.\n",
        "\n",
        "Write a product description based on the information\n",
        "provided in the technical specifications delimited by\n",
        "triple backticks.\n",
        "\n",
        "The description is intended for furniture retailers,\n",
        "so should be technical in nature and focus on the\n",
        "materials the product is constructed from.\n",
        "\n",
        "Use at most 50 words.\n",
        "\n",
        "Technical specifications: ```{fact_sheet_chair}```\n",
        "\"\"\"\n",
        "response = get_completion(prompt)\n",
        "print(response)"
      ]
    },
    {
      "cell_type": "code",
      "execution_count": null,
      "id": "e9455d58",
      "metadata": {
        "tags": [],
        "colab": {
          "base_uri": "https://localhost:8080/"
        },
        "id": "e9455d58",
        "outputId": "23ba6e49-71a6-461c-9d20-d911db04823a"
      },
      "outputs": [
        {
          "output_type": "stream",
          "name": "stdout",
          "text": [
            "Here is a product description based on the technical specifications:\n",
            "\n",
            "\"This mid-century inspired office chair features a durable cast aluminum shell base glider with a modified nylon PA6/PA66 coating, paired with a HD36 foam seat. The 5-wheel plastic coated aluminum base provides stability, while the pneumatic chair adjust allows for easy height adjustment. Available in various shell colors and base finishes, including stainless steel, matte black, gloss white, and chrome.\"\n",
            "\n",
            "Product IDs: SWC-100, SWC-110\n"
          ]
        }
      ],
      "source": [
        "prompt = f\"\"\"\n",
        "Your task is to help a marketing team create a\n",
        "description for a retail website of a product based\n",
        "on a technical fact sheet.\n",
        "\n",
        "Write a product description based on the information\n",
        "provided in the technical specifications delimited by\n",
        "triple backticks.\n",
        "\n",
        "The description is intended for furniture retailers,\n",
        "so should be technical in nature and focus on the\n",
        "materials the product is constructed from.\n",
        "\n",
        "At the end of the description, include every 7-character\n",
        "Product ID in the technical specification.\n",
        "\n",
        "Use at most 50 words.\n",
        "\n",
        "Technical specifications: ```{fact_sheet_chair}```\n",
        "\"\"\"\n",
        "response = get_completion(prompt)\n",
        "print(response)"
      ]
    },
    {
      "cell_type": "markdown",
      "id": "5be496d5-54c9-443b-8116-0b3d3d9dc560",
      "metadata": {
        "id": "5be496d5-54c9-443b-8116-0b3d3d9dc560"
      },
      "source": [
        "## Issue 3. Description needs a table of dimensions\n",
        "- Ask it to extract information and organize it in a table."
      ]
    },
    {
      "cell_type": "code",
      "execution_count": null,
      "id": "0384f1e4",
      "metadata": {
        "tags": [],
        "colab": {
          "base_uri": "https://localhost:8080/"
        },
        "id": "0384f1e4",
        "outputId": "34651a83-29b4-4a83-b4cc-538489221f9c"
      },
      "outputs": [
        {
          "output_type": "stream",
          "name": "stdout",
          "text": [
            "Here is the product description and dimensions table in HTML format:\n",
            "\n",
            "<div>\n",
            "This mid-century inspired office chair is part of a beautiful family of furniture, offering a range of customization options to suit your needs. The chair features a sturdy 5-wheel plastic coated aluminum base and a pneumatic chair adjust for easy raise/lower action. The shell is constructed from cast aluminum with a modified nylon PA6/PA66 coating, with a thickness of 10 mm. The seat is made from HD36 foam, available in two densities: medium (1.8 lb/ft3) or high (2.8 lb/ft3). The chair is available with or without armrests, and with a range of base finish options including stainless steel, matte black, gloss white, or chrome.\n",
            "\n",
            "Product IDs: SWC-100, SWC-110\n",
            "\n",
            "</div>\n",
            "\n",
            "<table>\n",
            "  <caption>Product Dimensions</caption>\n",
            "  <tr><td>WIDTH</td><td>20.87”</td></tr>\n",
            "  <tr><td>DEPTH</td><td>20.08”</td></tr>\n",
            "  <tr><td>HEIGHT</td><td>31.50”</td></tr>\n",
            "  <tr><td>SEAT HEIGHT</td><td>17.32”</td></tr>\n",
            "  <tr><td>SEAT DEPTH</td><td>16.14”</td></tr>\n",
            "</table>\n"
          ]
        }
      ],
      "source": [
        "prompt = f\"\"\"\n",
        "Your task is to help a marketing team create a\n",
        "description for a retail website of a product based\n",
        "on a technical fact sheet.\n",
        "\n",
        "Write a product description based on the information\n",
        "provided in the technical specifications delimited by\n",
        "triple backticks.\n",
        "\n",
        "The description is intended for furniture retailers,\n",
        "so should be technical in nature and focus on the\n",
        "materials the product is constructed from.\n",
        "\n",
        "At the end of the description, include every 7-character\n",
        "Product ID in the technical specification.\n",
        "\n",
        "After the description, include a table that gives the\n",
        "product's dimensions. The table should have two columns.\n",
        "In the first column include the name of the dimension.\n",
        "In the second column include the measurements in inches only.\n",
        "\n",
        "Give the table the title 'Product Dimensions'.\n",
        "\n",
        "Format everything as HTML that can be used in a website.\n",
        "Place the description in a <div> element.\n",
        "\n",
        "Technical specifications: ```{fact_sheet_chair}```\n",
        "\"\"\"\n",
        "\n",
        "response = get_completion(prompt)\n",
        "print(response)"
      ]
    },
    {
      "cell_type": "markdown",
      "id": "d681db67-6d59-40c1-a36b-4d76729a690d",
      "metadata": {
        "id": "d681db67-6d59-40c1-a36b-4d76729a690d"
      },
      "source": [
        "## Load Python libraries to view HTML"
      ]
    },
    {
      "cell_type": "code",
      "execution_count": null,
      "id": "73ff0052",
      "metadata": {
        "tags": [],
        "id": "73ff0052"
      },
      "outputs": [],
      "source": [
        "from IPython.display import display, HTML"
      ]
    },
    {
      "cell_type": "code",
      "execution_count": null,
      "id": "3465ffce",
      "metadata": {
        "tags": [],
        "colab": {
          "base_uri": "https://localhost:8080/",
          "height": 209
        },
        "id": "3465ffce",
        "outputId": "44894158-7af4-44bc-b2a4-774dc3514951"
      },
      "outputs": [
        {
          "output_type": "display_data",
          "data": {
            "text/plain": [
              "<IPython.core.display.HTML object>"
            ],
            "text/html": [
              "Here is the product description and dimensions table in HTML format:\n",
              "\n",
              "<div>\n",
              "This mid-century inspired office chair is part of a beautiful family of furniture, offering a range of customization options to suit your needs. The chair features a sturdy 5-wheel plastic coated aluminum base and a pneumatic chair adjust for easy raise/lower action. The shell is constructed from cast aluminum with a modified nylon PA6/PA66 coating, with a thickness of 10 mm. The seat is made from HD36 foam, available in two densities: medium (1.8 lb/ft3) or high (2.8 lb/ft3). The chair is available with or without armrests, and with a range of base finish options including stainless steel, matte black, gloss white, or chrome.\n",
              "\n",
              "Product IDs: SWC-100, SWC-110\n",
              "\n",
              "</div>\n",
              "\n",
              "<table>\n",
              "  <caption>Product Dimensions</caption>\n",
              "  <tr><td>WIDTH</td><td>20.87”</td></tr>\n",
              "  <tr><td>DEPTH</td><td>20.08”</td></tr>\n",
              "  <tr><td>HEIGHT</td><td>31.50”</td></tr>\n",
              "  <tr><td>SEAT HEIGHT</td><td>17.32”</td></tr>\n",
              "  <tr><td>SEAT DEPTH</td><td>16.14”</td></tr>\n",
              "</table>"
            ]
          },
          "metadata": {}
        }
      ],
      "source": [
        "display(HTML(response))"
      ]
    },
    {
      "cell_type": "markdown",
      "id": "8ed02a02-9e12-4f63-97bd-f52064b18666",
      "metadata": {
        "id": "8ed02a02-9e12-4f63-97bd-f52064b18666"
      },
      "source": [
        "## Try experimenting on your own!"
      ]
    },
    {
      "cell_type": "code",
      "execution_count": null,
      "id": "dbe1f850",
      "metadata": {
        "id": "dbe1f850"
      },
      "outputs": [],
      "source": []
    }
  ],
  "metadata": {
    "kernelspec": {
      "display_name": "Python 3 (ipykernel)",
      "language": "python",
      "name": "python3"
    },
    "language_info": {
      "codemirror_mode": {
        "name": "ipython",
        "version": 3
      },
      "file_extension": ".py",
      "mimetype": "text/x-python",
      "name": "python",
      "nbconvert_exporter": "python",
      "pygments_lexer": "ipython3",
      "version": "3.8.10"
    },
    "colab": {
      "provenance": []
    }
  },
  "nbformat": 4,
  "nbformat_minor": 5
}